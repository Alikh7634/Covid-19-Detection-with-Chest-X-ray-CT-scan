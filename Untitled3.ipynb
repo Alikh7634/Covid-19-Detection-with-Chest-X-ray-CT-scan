{
  "cells": [
    {
      "cell_type": "markdown",
      "metadata": {},
      "source": [
        "# Table of Contents\n",
        "1. [Libraries](#importing-libraries)\n",
        "2. [Data](#Importing-Data)\n",
        "3. [Data Processing and splitting data](#data-processing)\n",
        "6. [Hyperparameter tuning](#hyperparameter-tuning)\n",
        "7. [Artificial neural network](#ann-model)\n",
        "8. [Training model](#training-model)\n",
        "9. [Tested Models](#testing-models)"
      ]
    },
    {
      "attachments": {
        "handyman-color.png": {
          "image/png": "[encoded data removed]"
        }
      },
      "cell_type": "markdown",
      "metadata": {},
      "source": [
        "![handyman-color.png](attachment:handyman-color.png)"
      ]
    },
    {
      "cell_type": "markdown",
      "metadata": {},
      "source": [
        "# importing-libraries"
      ]
    },
    {
      "cell_type": "code",
      "execution_count": null,
      "metadata": {},
      "outputs": [],
      "source": [
        "! pip install keras-tuner"
      ]
    },
    {
      "cell_type": "code",
      "execution_count": null,
      "metadata": {
        "id": "fxakUWAcaGHd"
      },
      "outputs": [],
      "source": [
        "import os\n",
        "import cv2\n",
        "import numpy as np\n",
        "import pandas as pd\n",
        "import seaborn as sns\n",
        "import tensorflow as tf\n",
        "import keras_tuner as kt\n",
        "from graphviz import Digraph\n",
        "from skimage.feature import hog\n",
        "import matplotlib.pyplot as plt\n",
        "from IPython.display import display\n",
        "from sklearn.model_selection import KFold\n",
        "from sklearn.metrics import roc_curve, auc\n",
        "from tensorflow.keras.metrics import Recall\n",
        "from tensorflow.keras.optimizers import Adam\n",
        "from tensorflow.keras.utils import plot_model\n",
        "from sklearn.preprocessing import LabelEncoder\n",
        "from tensorflow.keras.preprocessing import image\n",
        "from tensorflow.keras.utils import to_categorical\n",
        "from sklearn.model_selection import train_test_split\n",
        "from sklearn.utils.class_weight import compute_class_weight\n",
        "from tensorflow.keras.models import Sequential, load_model, Model\n",
        "from tensorflow.keras.preprocessing.image import ImageDataGenerator\n",
        "from sklearn.metrics import confusion_matrix, classification_report\n",
        "from tensorflow.keras.layers import Dense, Conv2D, MaxPooling2D,Flatten, Dropout, Input"
      ]
    },
    {
      "cell_type": "markdown",
      "metadata": {},
      "source": [
        "# Importing-Data"
      ]
    },
    {
      "cell_type": "markdown",
      "metadata": {},
      "source": [
        "## Copy Right"
      ]
    },
    {
      "cell_type": "code",
      "execution_count": null,
      "metadata": {},
      "outputs": [],
      "source": [
        "import kagglehub\n",
        "\n",
        "# Download latest version\n",
        "path = kagglehub.dataset_download(\"plameneduardo/sarscov2-ctscan-dataset\")\n",
        "\n",
        "print(\"Path to dataset files:\", path)"
      ]
    },
    {
      "cell_type": "markdown",
      "metadata": {},
      "source": [
        "## Importing Data"
      ]
    },
    {
      "cell_type": "code",
      "execution_count": null,
      "metadata": {
        "id": "HfrDj2Q8a52k"
      },
      "outputs": [],
      "source": [
        "Covid = '/content/drive/MyDrive/Covid CTscan Pictures/Images/COVID'\n",
        "non_covid = '/content/drive/MyDrive/Covid CTscan Pictures/Images/non-COVID'"
      ]
    },
    {
      "cell_type": "code",
      "execution_count": null,
      "metadata": {
        "id": "f9F2Rto7fgBA"
      },
      "outputs": [],
      "source": [
        "image_size = (256, 256)\n",
        "\n",
        "def read_img(folder_path, category):\n",
        "    image = []\n",
        "    for filename in os.listdir(folder_path):\n",
        "        file_path = os.path.join(folder_path, filename)\n",
        "        if os.path.isfile(file_path):\n",
        "            img = cv2.imread(file_path, cv2.IMREAD_GRAYSCALE)\n",
        "            _, img = cv2.threshold(img, 70, 220, cv2.THRESH_BINARY + cv2.THRESH_OTSU)\n",
        "            img = cv2.resize(img, image_size)\n",
        "            image.append((img, category))\n",
        "\n",
        "    return image"
      ]
    },
    {
      "cell_type": "code",
      "execution_count": null,
      "metadata": {
        "colab": {
          "background_save": true
        },
        "id": "iaL976YBfiy0"
      },
      "outputs": [],
      "source": [
        "data = []\n",
        "data += read_img(Covid, 0) #zero means Covid Pictures\n",
        "data += read_img(non_covid, 1)#one means Non Covid Pictures"
      ]
    },
    {
      "cell_type": "markdown",
      "metadata": {},
      "source": [
        "# Data Processing"
      ]
    },
    {
      "cell_type": "code",
      "execution_count": null,
      "metadata": {
        "colab": {
          "background_save": true
        },
        "id": "M-t2kawIfpre"
      },
      "outputs": [],
      "source": [
        "np.random.shuffle(data)\n",
        "x = np.array([item[0] for item in data]).reshape(-1, image_size[0], image_size[1], 1)\n",
        "y = np.array([item[1] for item in data])\n",
        "x = x/255.0\n",
        "x_train, x_temp, y_train, y_temp = train_test_split(x, y, test_size= 0.2, random_state= 42)\n",
        "x_val, x_test, y_val, y_test= train_test_split(x_temp, y_temp, test_size= 0.2, random_state= 42)"
      ]
    },
    {
      "cell_type": "code",
      "execution_count": null,
      "metadata": {
        "colab": {
          "background_save": true
        },
        "id": "vs9ppLmWjNSF",
        "outputId": "914b1312-c341-4b3d-e23a-8e46c22c6ca1"
      },
      "outputs": [
        {
          "name": "stdout",
          "output_type": "stream",
          "text": [
            "Class Weights: {0: 1.0093572009764036, 1: 0.990814696485623}\n"
          ]
        }
      ],
      "source": [
        "def number_of_files(file_path):\n",
        "    num_files = len([f for f in os.listdir(file_path) if os.path.isfile(os.path.join(file_path, f))])\n",
        "    return num_files\n",
        "\n",
        "class_labels = np.array([0, 1])\n",
        "\n",
        "num_samples = np.array([number_of_files(non_covid), number_of_files(Covid)])\n",
        "class_weights = compute_class_weight(class_weight=\"balanced\", classes=class_labels, y=np.concatenate([\n",
        "    np.zeros(num_samples[0]),\n",
        "    np.ones(num_samples[1])\n",
        "]))\n",
        "\n",
        "class_weight_dict = {0: class_weights[0], 1: class_weights[1]}\n",
        "print(\"Class Weights:\", class_weight_dict)\n"
      ]
    },
    {
      "cell_type": "markdown",
      "metadata": {},
      "source": [
        "# Hyperparameter tuning"
      ]
    },
    {
      "cell_type": "code",
      "execution_count": null,
      "metadata": {
        "id": "PCrlffp8TTZk"
      },
      "outputs": [],
      "source": [
        "# def build_model(hp):\n",
        "#     model = Sequential()\n",
        "#     model.add(Conv2D(\n",
        "#         filters=hp.Int('conv_1_filters', min_value=32, max_value=128, step=32),\n",
        "#         kernel_size=hp.Choice('conv_1_kernel_size', values=[3, 5]),\n",
        "#         activation='relu',\n",
        "#         input_shape=(image_size[0], image_size[1], 1)\n",
        "#     ))\n",
        "#     model.add(MaxPooling2D(2,2))\n",
        "#     model.add(Conv2D(\n",
        "#         filters=hp.Int('conv_2_filters', min_value=64, max_value=256, step=64),\n",
        "#         kernel_size=hp.Choice('conv_2_kernel_size', values=[3, 5]),\n",
        "#         activation='relu'\n",
        "#     ))\n",
        "#     model.add(Dropout(hp.Float('dropout_rate', min_value=0.3, max_value=0.7, step=0.1)))\n",
        "#     model.add(MaxPooling2D(2,2))\n",
        "#     model.add(Flatten())\n",
        "#     model.add(Dense(\n",
        "#         units=hp.Int('dense_units', min_value=64, max_value=256, step=64),\n",
        "#         activation='relu'\n",
        "#     ))\n",
        "#     model.add(Dropout(hp.Float('dropout_rate_dense', min_value=0.3, max_value=0.7, step=0.1)))\n",
        "#     model.add(Dense(1, activation='sigmoid'))\n",
        "\n",
        "#     model.compile(\n",
        "#         optimizer=Adam(hp.Choice('learning_rate', values=[1e-2, 1e-3, 1e-4])),\n",
        "#         loss='binary_crossentropy',\n",
        "#         metrics=['accuracy', Recall(name='recall')]  # Add the Recall metric here\n",
        "#     )\n",
        "#     return model\n",
        "\n",
        "# # Hyperparameter tuning using Keras Tuner\n",
        "# tuner = kt.RandomSearch(\n",
        "#     build_model,\n",
        "#     objective=kt.Objective('val_recall', direction='max'),  # Change the objective here\n",
        "#     max_trials=10,\n",
        "#     executions_per_trial=1,\n",
        "#     directory='hyperparameter_tuning',\n",
        "#     project_name='cnn_hog_tuning'\n",
        "# )\n",
        "\n",
        "# # Perform the hyperparameter search\n",
        "# tuner.search(x_train, y_train, epochs=5, validation_data=(x_val, y_val))\n",
        "\n",
        "# # Get the best model and hyperparameters\n",
        "# best_model = tuner.get_best_models(num_models=1)[0]\n",
        "# best_hyperparameters = tuner.get_best_hyperparameters(num_trials=1)[0]\n",
        "\n",
        "# print(best_hyperparameters.values)\n"
      ]
    },
    {
      "cell_type": "code",
      "execution_count": null,
      "metadata": {
        "id": "jkVE2vEffq83"
      },
      "outputs": [],
      "source": [
        "# def build_model(hp):\n",
        "\n",
        "#     model = Sequential()\n",
        "#     model.add(Conv2D(\n",
        "#         filters=hp.Choice('conv1_filters', [16, 32, 64]),\n",
        "#         kernel_size=(3, 3),\n",
        "#         activation='relu',\n",
        "#         input_shape=(128, 128, 1)  # Replace with your actual image size\n",
        "#     ))\n",
        "#     model.add(MaxPooling2D(2, 2))\n",
        "\n",
        "#     model.add(Conv2D(\n",
        "#         filters=hp.Choice('conv2_filters', [32, 64, 128]),\n",
        "#         kernel_size=(3, 3),\n",
        "#         activation='relu'\n",
        "#     ))\n",
        "#     model.add(MaxPooling2D(2, 2))\n",
        "\n",
        "#     model.add(Dropout(hp.Float('dropout_1', min_value=0.2, max_value=0.5, step=0.1)))\n",
        "\n",
        "#     model.add(Flatten())\n",
        "#     model.add(Dense(hp.Int('dense_units', min_value=64, max_value=256, step=32), activation='relu'))\n",
        "#     model.add(Dropout(hp.Float('dropout_2', min_value=0.2, max_value=0.5, step=0.1)))\n",
        "#     model.add(Dense(1, activation='sigmoid'))\n",
        "\n",
        "#     model.compile(optimizer=Adam(hp.Choice('learning_rate', [1e-2, 1e-3, 1e-4])),\n",
        "#                   loss='binary_crossentropy',\n",
        "#                   metrics=['accuracy'])\n",
        "\n",
        "#     return model\n",
        "\n",
        "# tuner = kt.Hyperband(\n",
        "#     build_model,\n",
        "#     objective='val_accuracy',\n",
        "#     max_epochs=10,\n",
        "#     factor=3,\n",
        "#     directory='hyperparameter_tuning',\n",
        "#     project_name='lung_segmentation'\n",
        "# )\n",
        "\n",
        "# # Sample data (replace with your actual dataset)\n",
        "# import numpy as np\n",
        "# x_train = np.random.rand(100, 128, 128, 1)\n",
        "# y_train = np.random.randint(2, size=100)\n",
        "# x_val = np.random.rand(20, 128, 128, 1)\n",
        "# y_val = np.random.randint(2, size=20)\n",
        "\n",
        "# # Start tuning\n",
        "# tuner.search(x_train, y_train, epochs=5, validation_data=(x_val, y_val))\n",
        "\n",
        "# # Get the best hyperparameters\n",
        "# best_hps = tuner.get_best_hyperparameters(num_trials=1)[0]\n",
        "# print(f\"Best hyperparameters: {best_hps.values}\")\n"
      ]
    },
    {
      "cell_type": "markdown",
      "metadata": {},
      "source": [
        "# ANN Model"
      ]
    },
    {
      "cell_type": "code",
      "execution_count": null,
      "metadata": {
        "colab": {
          "base_uri": "https://localhost:8080/"
        },
        "id": "QPwJXfiIfvao",
        "outputId": "6a17a488-3883-4515-ddf2-74f77c75fd5e"
      },
      "outputs": [
        {
          "name": "stderr",
          "output_type": "stream",
          "text": [
            "/usr/local/lib/python3.11/dist-packages/keras/src/layers/convolutional/base_conv.py:107: UserWarning: Do not pass an `input_shape`/`input_dim` argument to a layer. When using Sequential models, prefer using an `Input(shape)` object as the first layer in the model instead.\n",
            "  super().__init__(activity_regularizer=activity_regularizer, **kwargs)\n"
          ]
        }
      ],
      "source": [
        "model = Sequential()\n",
        "model.add(Conv2D(96, (3, 3), activation = 'relu', input_shape = (image_size[0], image_size[1], 1)))\n",
        "model.add(MaxPooling2D(2,2))\n",
        "model.add(Dropout(0.3))\n",
        "model.add(Conv2D(256, (3, 3), activation = 'relu'))\n",
        "model.add(MaxPooling2D(2,2))\n",
        "model.add(Dropout(0.5))\n",
        "model.add(Flatten())\n",
        "model.add(Dense(128, activation='relu'))\n",
        "model.add(Dropout(0.5))\n",
        "model.add(Dense(1, activation='sigmoid'))"
      ]
    },
    {
      "cell_type": "code",
      "execution_count": null,
      "metadata": {
        "id": "4Thwnt1nf0Cn"
      },
      "outputs": [],
      "source": [
        "model.compile(optimizer = \"adam\", loss= 'binary_crossentropy', metrics = ['accuracy', Recall()]) #Adam is tested, SGD, RMSprop,"
      ]
    },
    {
      "cell_type": "code",
      "execution_count": null,
      "metadata": {
        "colab": {
          "base_uri": "https://localhost:8080/",
          "height": 449
        },
        "id": "80I7A87XJL5R",
        "outputId": "b2c0e44c-127d-4291-b2ea-a953a3343972"
      },
      "outputs": [
        {
          "data": {
            "text/html": [
              "<pre style=\"white-space:pre;overflow-x:auto;line-height:normal;font-family:Menlo,'DejaVu Sans Mono',consolas,'Courier New',monospace\"><span style=\"font-weight: bold\">Model: \"sequential\"</span>\n",
              "</pre>\n"
            ],
            "text/plain": [
              "\u001b[1mModel: \"sequential\"\u001b[0m\n"
            ]
          },
          "metadata": {},
          "output_type": "display_data"
        },
        {
          "data": {
            "text/html": [
              "<pre style=\"white-space:pre;overflow-x:auto;line-height:normal;font-family:Menlo,'DejaVu Sans Mono',consolas,'Courier New',monospace\">┏━━━━━━━━━━━━━━━━━━━━━━━━━━━━━━━━━━━━━━┳━━━━━━━━━━━━━━━━━━━━━━━━━━━━━┳━━━━━━━━━━━━━━━━━┓\n",
              "┃<span style=\"font-weight: bold\"> Layer (type)                         </span>┃<span style=\"font-weight: bold\"> Output Shape                </span>┃<span style=\"font-weight: bold\">         Param # </span>┃\n",
              "┡━━━━━━━━━━━━━━━━━━━━━━━━━━━━━━━━━━━━━━╇━━━━━━━━━━━━━━━━━━━━━━━━━━━━━╇━━━━━━━━━━━━━━━━━┩\n",
              "│ conv2d (<span style=\"color: #0087ff; text-decoration-color: #0087ff\">Conv2D</span>)                      │ (<span style=\"color: #00d7ff; text-decoration-color: #00d7ff\">None</span>, <span style=\"color: #00af00; text-decoration-color: #00af00\">254</span>, <span style=\"color: #00af00; text-decoration-color: #00af00\">254</span>, <span style=\"color: #00af00; text-decoration-color: #00af00\">96</span>)        │             <span style=\"color: #00af00; text-decoration-color: #00af00\">960</span> │\n",
              "├──────────────────────────────────────┼─────────────────────────────┼─────────────────┤\n",
              "│ max_pooling2d (<span style=\"color: #0087ff; text-decoration-color: #0087ff\">MaxPooling2D</span>)         │ (<span style=\"color: #00d7ff; text-decoration-color: #00d7ff\">None</span>, <span style=\"color: #00af00; text-decoration-color: #00af00\">127</span>, <span style=\"color: #00af00; text-decoration-color: #00af00\">127</span>, <span style=\"color: #00af00; text-decoration-color: #00af00\">96</span>)        │               <span style=\"color: #00af00; text-decoration-color: #00af00\">0</span> │\n",
              "├──────────────────────────────────────┼─────────────────────────────┼─────────────────┤\n",
              "│ dropout (<span style=\"color: #0087ff; text-decoration-color: #0087ff\">Dropout</span>)                    │ (<span style=\"color: #00d7ff; text-decoration-color: #00d7ff\">None</span>, <span style=\"color: #00af00; text-decoration-color: #00af00\">127</span>, <span style=\"color: #00af00; text-decoration-color: #00af00\">127</span>, <span style=\"color: #00af00; text-decoration-color: #00af00\">96</span>)        │               <span style=\"color: #00af00; text-decoration-color: #00af00\">0</span> │\n",
              "├──────────────────────────────────────┼─────────────────────────────┼─────────────────┤\n",
              "│ conv2d_1 (<span style=\"color: #0087ff; text-decoration-color: #0087ff\">Conv2D</span>)                    │ (<span style=\"color: #00d7ff; text-decoration-color: #00d7ff\">None</span>, <span style=\"color: #00af00; text-decoration-color: #00af00\">125</span>, <span style=\"color: #00af00; text-decoration-color: #00af00\">125</span>, <span style=\"color: #00af00; text-decoration-color: #00af00\">256</span>)       │         <span style=\"color: #00af00; text-decoration-color: #00af00\">221,440</span> │\n",
              "├──────────────────────────────────────┼─────────────────────────────┼─────────────────┤\n",
              "│ max_pooling2d_1 (<span style=\"color: #0087ff; text-decoration-color: #0087ff\">MaxPooling2D</span>)       │ (<span style=\"color: #00d7ff; text-decoration-color: #00d7ff\">None</span>, <span style=\"color: #00af00; text-decoration-color: #00af00\">62</span>, <span style=\"color: #00af00; text-decoration-color: #00af00\">62</span>, <span style=\"color: #00af00; text-decoration-color: #00af00\">256</span>)         │               <span style=\"color: #00af00; text-decoration-color: #00af00\">0</span> │\n",
              "├──────────────────────────────────────┼─────────────────────────────┼─────────────────┤\n",
              "│ dropout_1 (<span style=\"color: #0087ff; text-decoration-color: #0087ff\">Dropout</span>)                  │ (<span style=\"color: #00d7ff; text-decoration-color: #00d7ff\">None</span>, <span style=\"color: #00af00; text-decoration-color: #00af00\">62</span>, <span style=\"color: #00af00; text-decoration-color: #00af00\">62</span>, <span style=\"color: #00af00; text-decoration-color: #00af00\">256</span>)         │               <span style=\"color: #00af00; text-decoration-color: #00af00\">0</span> │\n",
              "├──────────────────────────────────────┼─────────────────────────────┼─────────────────┤\n",
              "│ flatten (<span style=\"color: #0087ff; text-decoration-color: #0087ff\">Flatten</span>)                    │ (<span style=\"color: #00d7ff; text-decoration-color: #00d7ff\">None</span>, <span style=\"color: #00af00; text-decoration-color: #00af00\">984064</span>)              │               <span style=\"color: #00af00; text-decoration-color: #00af00\">0</span> │\n",
              "├──────────────────────────────────────┼─────────────────────────────┼─────────────────┤\n",
              "│ dense (<span style=\"color: #0087ff; text-decoration-color: #0087ff\">Dense</span>)                        │ (<span style=\"color: #00d7ff; text-decoration-color: #00d7ff\">None</span>, <span style=\"color: #00af00; text-decoration-color: #00af00\">128</span>)                 │     <span style=\"color: #00af00; text-decoration-color: #00af00\">125,960,320</span> │\n",
              "├──────────────────────────────────────┼─────────────────────────────┼─────────────────┤\n",
              "│ dropout_2 (<span style=\"color: #0087ff; text-decoration-color: #0087ff\">Dropout</span>)                  │ (<span style=\"color: #00d7ff; text-decoration-color: #00d7ff\">None</span>, <span style=\"color: #00af00; text-decoration-color: #00af00\">128</span>)                 │               <span style=\"color: #00af00; text-decoration-color: #00af00\">0</span> │\n",
              "├──────────────────────────────────────┼─────────────────────────────┼─────────────────┤\n",
              "│ dense_1 (<span style=\"color: #0087ff; text-decoration-color: #0087ff\">Dense</span>)                      │ (<span style=\"color: #00d7ff; text-decoration-color: #00d7ff\">None</span>, <span style=\"color: #00af00; text-decoration-color: #00af00\">1</span>)                   │             <span style=\"color: #00af00; text-decoration-color: #00af00\">129</span> │\n",
              "└──────────────────────────────────────┴─────────────────────────────┴─────────────────┘\n",
              "</pre>\n"
            ],
            "text/plain": [
              "┏━━━━━━━━━━━━━━━━━━━━━━━━━━━━━━━━━━━━━━┳━━━━━━━━━━━━━━━━━━━━━━━━━━━━━┳━━━━━━━━━━━━━━━━━┓\n",
              "┃\u001b[1m \u001b[0m\u001b[1mLayer (type)                        \u001b[0m\u001b[1m \u001b[0m┃\u001b[1m \u001b[0m\u001b[1mOutput Shape               \u001b[0m\u001b[1m \u001b[0m┃\u001b[1m \u001b[0m\u001b[1m        Param #\u001b[0m\u001b[1m \u001b[0m┃\n",
              "┡━━━━━━━━━━━━━━━━━━━━━━━━━━━━━━━━━━━━━━╇━━━━━━━━━━━━━━━━━━━━━━━━━━━━━╇━━━━━━━━━━━━━━━━━┩\n",
              "│ conv2d (\u001b[38;5;33mConv2D\u001b[0m)                      │ (\u001b[38;5;45mNone\u001b[0m, \u001b[38;5;34m254\u001b[0m, \u001b[38;5;34m254\u001b[0m, \u001b[38;5;34m96\u001b[0m)        │             \u001b[38;5;34m960\u001b[0m │\n",
              "├──────────────────────────────────────┼─────────────────────────────┼─────────────────┤\n",
              "│ max_pooling2d (\u001b[38;5;33mMaxPooling2D\u001b[0m)         │ (\u001b[38;5;45mNone\u001b[0m, \u001b[38;5;34m127\u001b[0m, \u001b[38;5;34m127\u001b[0m, \u001b[38;5;34m96\u001b[0m)        │               \u001b[38;5;34m0\u001b[0m │\n",
              "├──────────────────────────────────────┼─────────────────────────────┼─────────────────┤\n",
              "│ dropout (\u001b[38;5;33mDropout\u001b[0m)                    │ (\u001b[38;5;45mNone\u001b[0m, \u001b[38;5;34m127\u001b[0m, \u001b[38;5;34m127\u001b[0m, \u001b[38;5;34m96\u001b[0m)        │               \u001b[38;5;34m0\u001b[0m │\n",
              "├──────────────────────────────────────┼─────────────────────────────┼─────────────────┤\n",
              "│ conv2d_1 (\u001b[38;5;33mConv2D\u001b[0m)                    │ (\u001b[38;5;45mNone\u001b[0m, \u001b[38;5;34m125\u001b[0m, \u001b[38;5;34m125\u001b[0m, \u001b[38;5;34m256\u001b[0m)       │         \u001b[38;5;34m221,440\u001b[0m │\n",
              "├──────────────────────────────────────┼─────────────────────────────┼─────────────────┤\n",
              "│ max_pooling2d_1 (\u001b[38;5;33mMaxPooling2D\u001b[0m)       │ (\u001b[38;5;45mNone\u001b[0m, \u001b[38;5;34m62\u001b[0m, \u001b[38;5;34m62\u001b[0m, \u001b[38;5;34m256\u001b[0m)         │               \u001b[38;5;34m0\u001b[0m │\n",
              "├──────────────────────────────────────┼─────────────────────────────┼─────────────────┤\n",
              "│ dropout_1 (\u001b[38;5;33mDropout\u001b[0m)                  │ (\u001b[38;5;45mNone\u001b[0m, \u001b[38;5;34m62\u001b[0m, \u001b[38;5;34m62\u001b[0m, \u001b[38;5;34m256\u001b[0m)         │               \u001b[38;5;34m0\u001b[0m │\n",
              "├──────────────────────────────────────┼─────────────────────────────┼─────────────────┤\n",
              "│ flatten (\u001b[38;5;33mFlatten\u001b[0m)                    │ (\u001b[38;5;45mNone\u001b[0m, \u001b[38;5;34m984064\u001b[0m)              │               \u001b[38;5;34m0\u001b[0m │\n",
              "├──────────────────────────────────────┼─────────────────────────────┼─────────────────┤\n",
              "│ dense (\u001b[38;5;33mDense\u001b[0m)                        │ (\u001b[38;5;45mNone\u001b[0m, \u001b[38;5;34m128\u001b[0m)                 │     \u001b[38;5;34m125,960,320\u001b[0m │\n",
              "├──────────────────────────────────────┼─────────────────────────────┼─────────────────┤\n",
              "│ dropout_2 (\u001b[38;5;33mDropout\u001b[0m)                  │ (\u001b[38;5;45mNone\u001b[0m, \u001b[38;5;34m128\u001b[0m)                 │               \u001b[38;5;34m0\u001b[0m │\n",
              "├──────────────────────────────────────┼─────────────────────────────┼─────────────────┤\n",
              "│ dense_1 (\u001b[38;5;33mDense\u001b[0m)                      │ (\u001b[38;5;45mNone\u001b[0m, \u001b[38;5;34m1\u001b[0m)                   │             \u001b[38;5;34m129\u001b[0m │\n",
              "└──────────────────────────────────────┴─────────────────────────────┴─────────────────┘\n"
            ]
          },
          "metadata": {},
          "output_type": "display_data"
        },
        {
          "data": {
            "text/html": [
              "<pre style=\"white-space:pre;overflow-x:auto;line-height:normal;font-family:Menlo,'DejaVu Sans Mono',consolas,'Courier New',monospace\"><span style=\"font-weight: bold\"> Total params: </span><span style=\"color: #00af00; text-decoration-color: #00af00\">126,182,849</span> (481.35 MB)\n",
              "</pre>\n"
            ],
            "text/plain": [
              "\u001b[1m Total params: \u001b[0m\u001b[38;5;34m126,182,849\u001b[0m (481.35 MB)\n"
            ]
          },
          "metadata": {},
          "output_type": "display_data"
        },
        {
          "data": {
            "text/html": [
              "<pre style=\"white-space:pre;overflow-x:auto;line-height:normal;font-family:Menlo,'DejaVu Sans Mono',consolas,'Courier New',monospace\"><span style=\"font-weight: bold\"> Trainable params: </span><span style=\"color: #00af00; text-decoration-color: #00af00\">126,182,849</span> (481.35 MB)\n",
              "</pre>\n"
            ],
            "text/plain": [
              "\u001b[1m Trainable params: \u001b[0m\u001b[38;5;34m126,182,849\u001b[0m (481.35 MB)\n"
            ]
          },
          "metadata": {},
          "output_type": "display_data"
        },
        {
          "data": {
            "text/html": [
              "<pre style=\"white-space:pre;overflow-x:auto;line-height:normal;font-family:Menlo,'DejaVu Sans Mono',consolas,'Courier New',monospace\"><span style=\"font-weight: bold\"> Non-trainable params: </span><span style=\"color: #00af00; text-decoration-color: #00af00\">0</span> (0.00 B)\n",
              "</pre>\n"
            ],
            "text/plain": [
              "\u001b[1m Non-trainable params: \u001b[0m\u001b[38;5;34m0\u001b[0m (0.00 B)\n"
            ]
          },
          "metadata": {},
          "output_type": "display_data"
        }
      ],
      "source": [
        "model.summary()"
      ]
    },
    {
      "cell_type": "markdown",
      "metadata": {},
      "source": [
        "# Training Model"
      ]
    },
    {
      "cell_type": "code",
      "execution_count": null,
      "metadata": {
        "colab": {
          "base_uri": "https://localhost:8080/"
        },
        "id": "oxn4Re4Sf6Rz",
        "outputId": "3b2bdd0c-eb6a-46b1-b303-afb1172fae4d"
      },
      "outputs": [
        {
          "name": "stdout",
          "output_type": "stream",
          "text": [
            "Epoch 1/7\n",
            "\u001b[1m62/62\u001b[0m \u001b[32m━━━━━━━━━━━━━━━━━━━━\u001b[0m\u001b[37m\u001b[0m \u001b[1m40s\u001b[0m 355ms/step - accuracy: 0.5595 - loss: 3.8659 - recall: 0.5952 - val_accuracy: 0.7179 - val_loss: 0.5209 - val_recall: 0.5742\n",
            "Epoch 2/7\n",
            "\u001b[1m62/62\u001b[0m \u001b[32m━━━━━━━━━━━━━━━━━━━━\u001b[0m\u001b[37m\u001b[0m \u001b[1m14s\u001b[0m 221ms/step - accuracy: 0.8061 - loss: 0.4326 - recall: 0.7967 - val_accuracy: 0.8489 - val_loss: 0.3436 - val_recall: 0.8900\n",
            "Epoch 3/7\n",
            "\u001b[1m62/62\u001b[0m \u001b[32m━━━━━━━━━━━━━━━━━━━━\u001b[0m\u001b[37m\u001b[0m \u001b[1m14s\u001b[0m 231ms/step - accuracy: 0.8873 - loss: 0.2657 - recall: 0.9067 - val_accuracy: 0.8715 - val_loss: 0.3039 - val_recall: 0.8756\n",
            "Epoch 4/7\n",
            "\u001b[1m62/62\u001b[0m \u001b[32m━━━━━━━━━━━━━━━━━━━━\u001b[0m\u001b[37m\u001b[0m \u001b[1m14s\u001b[0m 222ms/step - accuracy: 0.9280 - loss: 0.1714 - recall: 0.9414 - val_accuracy: 0.8640 - val_loss: 0.3141 - val_recall: 0.8947\n",
            "Epoch 5/7\n",
            "\u001b[1m62/62\u001b[0m \u001b[32m━━━━━━━━━━━━━━━━━━━━\u001b[0m\u001b[37m\u001b[0m \u001b[1m21s\u001b[0m 231ms/step - accuracy: 0.9616 - loss: 0.1022 - recall: 0.9653 - val_accuracy: 0.8715 - val_loss: 0.3622 - val_recall: 0.8565\n",
            "Epoch 6/7\n",
            "\u001b[1m62/62\u001b[0m \u001b[32m━━━━━━━━━━━━━━━━━━━━\u001b[0m\u001b[37m\u001b[0m \u001b[1m20s\u001b[0m 222ms/step - accuracy: 0.9811 - loss: 0.0572 - recall: 0.9778 - val_accuracy: 0.8866 - val_loss: 0.3839 - val_recall: 0.8852\n",
            "Epoch 7/7\n",
            "\u001b[1m62/62\u001b[0m \u001b[32m━━━━━━━━━━━━━━━━━━━━\u001b[0m\u001b[37m\u001b[0m \u001b[1m14s\u001b[0m 232ms/step - accuracy: 0.9842 - loss: 0.0459 - recall: 0.9873 - val_accuracy: 0.8741 - val_loss: 0.3458 - val_recall: 0.8660\n"
          ]
        }
      ],
      "source": [
        "history = model.fit(x_train, y_train,validation_data=(x_val, y_val), epochs= 7, batch_size= 32, class_weight= class_weight_dict)"
      ]
    },
    {
      "cell_type": "code",
      "execution_count": null,
      "metadata": {
        "colab": {
          "base_uri": "https://localhost:8080/",
          "height": 504
        },
        "id": "wDHxMNCTeos9",
        "outputId": "52a338ee-f305-4564-f65b-8ea03baa0491"
      },
      "outputs": [
        {
          "name": "stdout",
          "output_type": "stream",
          "text": [
            "\u001b[1m4/4\u001b[0m \u001b[32m━━━━━━━━━━━━━━━━━━━━\u001b[0m\u001b[37m\u001b[0m \u001b[1m3s\u001b[0m 842ms/step\n"
          ]
        },
        {
          "data": {
            "image/png": "[encoded data removed]",
            "text/plain": [
              "<Figure size 600x500 with 2 Axes>"
            ]
          },
          "metadata": {},
          "output_type": "display_data"
        }
      ],
      "source": [
        "y_pred_probs = model.predict(x_test)\n",
        "\n",
        "# Convert probabilities to class labels (assuming binary classification)\n",
        "y_pred = (y_pred_probs > 0.5).astype(int)  # Threshold at 0.5 for binary classification\n",
        "\n",
        "# Compute confusion matrix\n",
        "cm = confusion_matrix(y_test, y_pred)\n",
        "\n",
        "# Define class labels\n",
        "class_names = ['Covid', 'Non-Covid']\n",
        "\n",
        "# Plot the heatmap\n",
        "plt.figure(figsize=(6, 5))\n",
        "sns.heatmap(cm, annot=True, fmt=\"d\", cmap=\"Blues\", xticklabels=class_names, yticklabels=class_names)\n",
        "plt.xlabel('Predicted Label')\n",
        "plt.ylabel('True Label')\n",
        "plt.title('Confusion Matrix')\n",
        "plt.savefig('/content/drive/MyDrive/Statistics/NEWW32 main main main default Confusion Matrix default.png', dpi = 2500,format= 'png') #3333 for 0.001\n",
        "plt.show()"
      ]
    },
    {
      "cell_type": "code",
      "execution_count": null,
      "metadata": {
        "colab": {
          "base_uri": "https://localhost:8080/",
          "height": 581
        },
        "id": "rM9oL-ZskU38",
        "outputId": "fb5bf637-bd28-441a-bd16-bc7bebc234af"
      },
      "outputs": [
        {
          "name": "stdout",
          "output_type": "stream",
          "text": [
            "\u001b[1m4/4\u001b[0m \u001b[32m━━━━━━━━━━━━━━━━━━━━\u001b[0m\u001b[37m\u001b[0m \u001b[1m0s\u001b[0m 59ms/step\n"
          ]
        },
        {
          "data": {
            "image/png": "[encoded data removed]",
            "text/plain": [
              "<Figure size 700x600 with 1 Axes>"
            ]
          },
          "metadata": {},
          "output_type": "display_data"
        }
      ],
      "source": [
        "y_pred_probs = model.predict(x_test)\n",
        "y_test = y_test.flatten()  # Ensure y_test is a 1D array if needed\n",
        "\n",
        "# Compute ROC curve and AUC score\n",
        "fpr, tpr, _ = roc_curve(y_test, y_pred_probs)\n",
        "roc_auc = auc(fpr, tpr)\n",
        "\n",
        "# Plot ROC Curve\n",
        "plt.figure(figsize=(7, 6))\n",
        "plt.plot(fpr, tpr, color='blue', lw=2, label=f'ROC curve (AUC = {roc_auc:.2f})')\n",
        "plt.plot([0, 1], [0, 1], color='gray', linestyle='--')  # Diagonal reference line\n",
        "plt.xlim([0.0, 1.0])\n",
        "plt.ylim([0.0, 1.05])\n",
        "plt.xlabel('False Positive Rate')\n",
        "plt.ylabel('True Positive Rate')\n",
        "plt.title('ROC Curve - TensorFlow Model')\n",
        "plt.legend(loc='lower right')\n",
        "plt.savefig('/content/drive/MyDrive/Statistics/ NEWW32 main main main default ROC Curve.png', dpi = 2500,format= 'png')\n",
        "plt.show()"
      ]
    },
    {
      "cell_type": "code",
      "execution_count": null,
      "metadata": {
        "colab": {
          "base_uri": "https://localhost:8080/"
        },
        "id": "neOC_h1tMEM5",
        "outputId": "f5b5231f-3091-4699-9339-607d944bb417"
      },
      "outputs": [
        {
          "name": "stderr",
          "output_type": "stream",
          "text": [
            "WARNING:absl:You are saving your model as an HDF5 file via `model.save()` or `keras.saving.save_model(model)`. This file format is considered legacy. We recommend using instead the native Keras format, e.g. `model.save('my_model.keras')` or `keras.saving.save_model(model, 'my_model.keras')`. \n"
          ]
        }
      ],
      "source": [
        "model.save(\"/content/drive/MyDrive/Covid CTscan Pictures/Models/covid_detection_adam_model version default.h5\")"
      ]
    },
    {
      "cell_type": "code",
      "execution_count": null,
      "metadata": {
        "id": "-mjKwXLkv9ag"
      },
      "outputs": [],
      "source": [
        "train_recall = history.history['recall']\n",
        "val_recall = history.history['val_recall']"
      ]
    },
    {
      "cell_type": "code",
      "execution_count": null,
      "metadata": {
        "id": "aOGEuGyzu2Cz"
      },
      "outputs": [],
      "source": [
        "plt.figure(figsize = (16, 5))\n",
        "plt.subplot(1, 3, 1)\n",
        "plt.plot(history.history['accuracy'], label='Training Accuracy')\n",
        "plt.plot(history.history['val_accuracy'], label='Validation Accuracy')\n",
        "plt.xlabel('Epochs')\n",
        "plt.ylabel('Accuracy')\n",
        "plt.legend()\n",
        "plt.title('Training and Validation Accuracy')\n",
        "#plt.savefig('/content/drive/MyDrive/Statistics/train and validation With Gris Search.png', format= 'png')\n",
        "\n",
        "plt.subplot(1, 3, 2)\n",
        "# Plot training and validation loss\n",
        "plt.plot(history.history['loss'], label='Training Loss')\n",
        "plt.plot(history.history['val_loss'], label='Validation Loss')\n",
        "plt.xlabel('Epochs')\n",
        "plt.ylabel('Loss')\n",
        "plt.legend()\n",
        "plt.title('Training and Validation Loss')\n",
        "#plt.savefig('/content/drive/MyDrive/Statistics/loss with Grid Search.png', format= 'png')\n",
        "\n",
        "plt.subplot(1, 3, 3)\n",
        "plt.plot(train_recall, label='Train Recall')\n",
        "plt.plot(val_recall, label='Validation Recall', linestyle='dashed')\n",
        "plt.xlabel('Epochs')\n",
        "plt.ylabel('Recall')\n",
        "plt.title('Learning Curve for Recall')\n",
        "plt.legend()\n",
        "plt.savefig('/content/drive/MyDrive/Statistics/NEWW32 main main main default.png', format = \"png\")\n",
        "plt.show()"
      ]
    },
    {
      "cell_type": "code",
      "execution_count": null,
      "metadata": {
        "id": "dbwC6GjMYd3g"
      },
      "outputs": [],
      "source": [
        "def test_img(path):\n",
        "    images = []\n",
        "    img = cv2.imread(path, cv2.IMREAD_GRAYSCALE)\n",
        "    _, img = cv2.threshold(img, 70, 220, cv2.THRESH_BINARY + cv2.THRESH_OTSU)\n",
        "    img = cv2.resize(img, image_size)\n",
        "    images.append(img)\n",
        "\n",
        "    return image"
      ]
    },
    {
      "cell_type": "code",
      "execution_count": null,
      "metadata": {
        "id": "7vYjY5_Yk-Li"
      },
      "outputs": [],
      "source": [
        "test = test_img('/content/drive/MyDrive/Covid CTscan Pictures/Images/COVID/Covid (1001).png')"
      ]
    },
    {
      "cell_type": "code",
      "execution_count": null,
      "metadata": {
        "id": "HqNWoYqNaAwf"
      },
      "outputs": [],
      "source": [
        "model.predict(test)"
      ]
    },
    {
      "cell_type": "markdown",
      "metadata": {},
      "source": [
        "# Testing Models"
      ]
    },
    {
      "cell_type": "code",
      "execution_count": null,
      "metadata": {
        "id": "3ELyBL_r9jU7"
      },
      "outputs": [],
      "source": [
        "model2 = Sequential()\n",
        "model2.add(Conv2D(96, (3, 3), activation = 'relu', input_shape = (image_size[0], image_size[1], 1)))\n",
        "model2.add(MaxPooling2D(2,2))\n",
        "model2.add(Conv2D(256, (3, 3), activation = 'relu'))\n",
        "model2.add(MaxPooling2D(2,2))\n",
        "model2.add(Dropout(0.5))\n",
        "model2.add(Flatten())\n",
        "model2.add(Dense(128, activation='relu'))\n",
        "model2.add(Dropout(0.5))\n",
        "model2.add(Dense(1, activation='sigmoid'))"
      ]
    },
    {
      "cell_type": "code",
      "execution_count": null,
      "metadata": {
        "id": "9QTdJdh49jmC"
      },
      "outputs": [],
      "source": [
        "model2.compile(optimizer = 'adam', loss= 'binary_crossentropy', metrics = ['accuracy', Recall()])"
      ]
    },
    {
      "cell_type": "code",
      "execution_count": null,
      "metadata": {
        "id": "3bRfl-JT9z-q"
      },
      "outputs": [],
      "source": [
        "history2 = model2.fit(x_train, y_train,validation_data=(x_val, y_val), epochs= 7, batch_size= 32, class_weight= class_weight_dict)"
      ]
    },
    {
      "cell_type": "code",
      "execution_count": null,
      "metadata": {
        "id": "P3pRWoqKe4hA"
      },
      "outputs": [],
      "source": [
        "y_pred_probs2 = model2.predict(x_test)\n",
        "y_pred2 = (y_pred_probs2 > 0.5).astype(int)  # Threshold at 0.5 for binary classification\n",
        "\n",
        "cm2 = confusion_matrix(y_test, y_pred2)\n",
        "\n",
        "class_names = ['Covid', 'Non-Covid']\n",
        "\n",
        "# Plot the heatmap\n",
        "plt.figure(figsize=(6, 5))\n",
        "sns.heatmap(cm2, annot=True, fmt=\"d\", cmap=\"Blues\", xticklabels=class_names, yticklabels=class_names)\n",
        "plt.xlabel('Predicted Label')\n",
        "plt.ylabel('True Label')\n",
        "plt.title('Confusion Matrix')\n",
        "#plt.savefig('/content/drive/MyDrive/Statistics/NEWW32 Confusion Matrix batch32.png', dpi = 2500,format= 'png')\n",
        "plt.show()"
      ]
    },
    {
      "cell_type": "code",
      "execution_count": null,
      "metadata": {
        "id": "NkoLDDEJfVV4"
      },
      "outputs": [],
      "source": [
        "train_recall2 = history2.history['recall_1']\n",
        "val_recall2 = history2.history['val_recall_1']"
      ]
    },
    {
      "cell_type": "code",
      "execution_count": null,
      "metadata": {
        "id": "kcKi3Z5Xm0no"
      },
      "outputs": [],
      "source": [
        "plt.figure(figsize = (16, 5))\n",
        "plt.subplot(1, 3, 1)\n",
        "plt.plot(history2.history['accuracy'], label='Training Accuracy')\n",
        "plt.plot(history2.history['val_accuracy'], label='Validation Accuracy')\n",
        "plt.xlabel('Epochs')\n",
        "plt.ylabel('Accuracy')\n",
        "plt.legend()\n",
        "plt.title('Training and Validation Accuracy')\n",
        "#plt.savefig('/content/drive/MyDrive/Statistics/train and validation With Gris Search.png', format= 'png')\n",
        "\n",
        "plt.subplot(1, 3, 2)\n",
        "# Plot training and validation loss\n",
        "plt.plot(history2.history['loss'], label='Training Loss')\n",
        "plt.plot(history2.history['val_loss'], label='Validation Loss')\n",
        "plt.xlabel('Epochs')\n",
        "plt.ylabel('Loss')\n",
        "plt.legend()\n",
        "plt.title('Training and Validation Loss')\n",
        "#plt.savefig('/content/drive/MyDrive/Statistics/loss with Grid Search.png', format= 'png')\n",
        "\n",
        "plt.subplot(1, 3, 3)\n",
        "plt.plot(train_recall2, label='Train Recall')\n",
        "plt.plot(val_recall2, label='Validation Recall', linestyle='dashed')\n",
        "plt.xlabel('Epochs')\n",
        "plt.ylabel('Recall')\n",
        "plt.title('Learning Curve for Recall')\n",
        "plt.legend()\n",
        "#plt.savefig('/content/drive/MyDrive/Statistics/with batch32.png', format= 'png')\n",
        "plt.show()"
      ]
    },
    {
      "cell_type": "code",
      "execution_count": null,
      "metadata": {
        "id": "gG-j4RvTgNZd"
      },
      "outputs": [],
      "source": [
        "model3 = Sequential()\n",
        "model3.add(Conv2D(96, (3, 3), activation = 'relu', input_shape = (image_size[0], image_size[1], 1)))\n",
        "model3.add(MaxPooling2D(2,2))\n",
        "model3.add(Conv2D(256, (3, 3), activation = 'relu'))\n",
        "model3.add(MaxPooling2D(2,2))\n",
        "model3.add(Dropout(0.5))\n",
        "model3.add(Flatten())\n",
        "model3.add(Dense(128, activation='relu'))\n",
        "model3.add(Dropout(0.5))\n",
        "model3.add(Dense(1, activation='sigmoid'))"
      ]
    },
    {
      "cell_type": "code",
      "execution_count": null,
      "metadata": {
        "id": "92Q0i7SygVYw"
      },
      "outputs": [],
      "source": [
        "model3.compile(optimizer = 'adam', loss= 'binary_crossentropy', metrics = ['accuracy', Recall()])"
      ]
    },
    {
      "cell_type": "code",
      "execution_count": null,
      "metadata": {
        "id": "IizTSF0NgWo4"
      },
      "outputs": [],
      "source": [
        "history3 = model3.fit(x_train, y_train,validation_data=(x_val, y_val), epochs= 7, batch_size= 64, class_weight= class_weight_dict)"
      ]
    },
    {
      "cell_type": "code",
      "execution_count": null,
      "metadata": {
        "id": "-DUn_uVwn3Bj"
      },
      "outputs": [],
      "source": [
        "y_pred_probs3 = model3.predict(x_test)\n",
        "y_pred3 = (y_pred_probs3 > 0.5).astype(int)  # Threshold at 0.5 for binary classification\n",
        "\n",
        "cm3 = confusion_matrix(y_test, y_pred3)\n",
        "\n",
        "class_names = ['Covid', 'Non-Covid']\n",
        "\n",
        "# Plot the heatmap\n",
        "plt.figure(figsize=(6, 5))\n",
        "sns.heatmap(cm3, annot=True, fmt=\"d\", cmap=\"Blues\", xticklabels=class_names, yticklabels=class_names)\n",
        "plt.xlabel('Predicted Label')\n",
        "plt.ylabel('True Label')\n",
        "plt.title('Confusion Matrix')\n",
        "plt.savefig('/content/drive/MyDrive/Statistics/NEWW64 Confusion Matrix batch32.png', dpi = 2500,format= 'png')\n",
        "plt.show()"
      ]
    },
    {
      "cell_type": "code",
      "execution_count": null,
      "metadata": {
        "id": "3FsUO9J-oD22"
      },
      "outputs": [],
      "source": [
        "train_recall3 = history3.history['recall_2']\n",
        "val_recall3 = history3.history['val_recall_2']"
      ]
    },
    {
      "cell_type": "code",
      "execution_count": null,
      "metadata": {
        "id": "DMOHBT1ZoAy_"
      },
      "outputs": [],
      "source": [
        "plt.figure(figsize = (16, 5))\n",
        "plt.subplot(1, 3, 1)\n",
        "plt.plot(history3.history['accuracy'], label='Training Accuracy')\n",
        "plt.plot(history3.history['val_accuracy'], label='Validation Accuracy')\n",
        "plt.xlabel('Epochs')\n",
        "plt.ylabel('Accuracy')\n",
        "plt.legend()\n",
        "plt.title('Training and Validation Accuracy')\n",
        "#plt.savefig('/content/drive/MyDrive/Statistics/train and validation With Gris Search.png', format= 'png')\n",
        "\n",
        "plt.subplot(1, 3, 2)\n",
        "# Plot training and validation loss\n",
        "plt.plot(history3.history['loss'], label='Training Loss')\n",
        "plt.plot(history3.history['val_loss'], label='Validation Loss')\n",
        "plt.xlabel('Epochs')\n",
        "plt.ylabel('Loss')\n",
        "plt.legend()\n",
        "plt.title('Training and Validation Loss')\n",
        "#plt.savefig('/content/drive/MyDrive/Statistics/loss with Grid Search.png', format= 'png')\n",
        "\n",
        "plt.subplot(1, 3, 3)\n",
        "plt.plot(train_recall3, label='Train Recall')\n",
        "plt.plot(val_recall3, label='Validation Recall', linestyle='dashed')\n",
        "plt.xlabel('Epochs')\n",
        "plt.ylabel('Recall')\n",
        "plt.title('Learning Curve for Recall')\n",
        "plt.legend()\n",
        "plt.savefig('/content/drive/MyDrive/Statistics/with batch32.png', format= 'png')\n",
        "plt.show()"
      ]
    },
    {
      "cell_type": "code",
      "execution_count": null,
      "metadata": {
        "id": "SrZUef34o44W"
      },
      "outputs": [],
      "source": [
        "# AI Generated\n",
        "dot = Digraph(format=\"png\", graph_attr={\"rankdir\": \"LR\", \"splines\": \"ortho\"})  # LR = Left-to-Right layout\n",
        "dot.node(\"Input\", \"Input\\n(128x128x1)\", shape=\"ellipse\", style=\"filled\", fillcolor=\"lightblue\")\n",
        "dot.node(\"Conv1\", \"Conv2D\\n(32 filters, 3x3)\\nReLU\", shape=\"box\", style=\"filled\", fillcolor=\"lightgray\")\n",
        "dot.node(\"Pool1\", \"MaxPooling2D\\n(2x2)\", shape=\"box\", style=\"filled\", fillcolor=\"white\")\n",
        "dot.node(\"Conv2\", \"Conv2D\\n(64 filters, 3x3)\\nReLU\", shape=\"box\", style=\"filled\", fillcolor=\"lightgray\")\n",
        "dot.node(\"Pool2\", \"MaxPooling2D\\n(2x2)\", shape=\"box\", style=\"filled\", fillcolor=\"white\")\n",
        "dot.node(\"Flatten\", \"Flatten\", shape=\"parallelogram\", style=\"filled\", fillcolor=\"yellow\")\n",
        "dot.node(\"Dense1\", \"Dense\\n(128 neurons)\\nReLU\", shape=\"box\", style=\"filled\", fillcolor=\"lightgray\")\n",
        "dot.node(\"Dropout\", \"Dropout\\n(0.5)\", shape=\"box\", style=\"filled\", fillcolor=\"pink\")\n",
        "dot.node(\"Dense2\", \"Dense\\n(1 neuron)\\nSigmoid\", shape=\"ellipse\", style=\"filled\", fillcolor=\"lightgreen\")\n",
        "\n",
        "# Connecting Layers\n",
        "dot.edge(\"Input\", \"Conv1\", label=\"Feature Extraction\")\n",
        "dot.edge(\"Conv1\", \"Pool1\", label=\"Reduce Size\")\n",
        "dot.edge(\"Pool1\", \"Conv2\", label=\"More Features\")\n",
        "dot.edge(\"Conv2\", \"Pool2\", label=\"Reduce Size\")\n",
        "dot.edge(\"Pool2\", \"Flatten\", label=\"Convert to Vector\")\n",
        "dot.edge(\"Flatten\", \"Dense1\", label=\"Fully Connected\")\n",
        "dot.edge(\"Dense1\", \"Dropout\", label=\"Prevent Overfitting\")\n",
        "dot.edge(\"Dropout\", \"Dense2\", label=\"Final Decision\")\n",
        "\n",
        "dot.render(\"/content/drive/MyDrive/Statistics/detailed_nn_visual\")\n",
        "\n",
        "display(dot)"
      ]
    },
    {
      "cell_type": "code",
      "execution_count": null,
      "metadata": {
        "id": "zkEf1NVpx_9k"
      },
      "outputs": [],
      "source": [
        "# model.compile(optimizer = 'SGD', loss= 'binary_crossentropy', metrics = ['accuracy', Recall()])"
      ]
    },
    {
      "cell_type": "code",
      "execution_count": null,
      "metadata": {
        "id": "Q7JutClPyQnC"
      },
      "outputs": [],
      "source": [
        "# history2 = model.fit(x_train, y_train,validation_data=(x_val, y_val), epochs= 7, batch_size= 32)"
      ]
    },
    {
      "cell_type": "code",
      "execution_count": null,
      "metadata": {
        "id": "02gGZIUox33q"
      },
      "outputs": [],
      "source": [
        "#model.save(\"/content/drive/MyDrive/Covid CTscan Pictures/Models/covid_detection_SGD_model.h5\")"
      ]
    },
    {
      "cell_type": "code",
      "execution_count": null,
      "metadata": {
        "id": "9hKe_S5IdKKd"
      },
      "outputs": [],
      "source": [
        "# plt.plot(history2.history['accuracy'], label='Training Accuracy')\n",
        "# plt.plot(history2.history['val_accuracy'], label='Validation Accuracy')\n",
        "# plt.xlabel('Epochs')\n",
        "# plt.ylabel('Accuracy')\n",
        "# plt.legend()\n",
        "# plt.title('Training and Validation Accuracy')\n",
        "# plt.savefig('/content/drive/MyDrive/Statistics/train and validation with GridSearch SGD.png', format= 'png')\n",
        "# plt.show()"
      ]
    },
    {
      "cell_type": "code",
      "execution_count": null,
      "metadata": {
        "id": "000x2QgKyTMK"
      },
      "outputs": [],
      "source": [
        "# plt.plot(history2.history['loss'], label='Training Loss')\n",
        "# plt.plot(history2.history['val_loss'], label='Validation Loss')\n",
        "# plt.xlabel('Epochs')\n",
        "# plt.ylabel('Loss')\n",
        "# plt.legend()\n",
        "# plt.title('Training and Validation Loss')\n",
        "# plt.savefig('/content/drive/MyDrive/Statistics/loss with Grid Search SGD.png', format= 'png')\n",
        "# plt.show()"
      ]
    },
    {
      "cell_type": "code",
      "execution_count": null,
      "metadata": {
        "id": "-xXq3jD1yjXe"
      },
      "outputs": [],
      "source": [
        "# model.compile(optimizer = 'RMSprop', loss= 'binary_crossentropy', metrics = ['accuracy', Recall()])"
      ]
    },
    {
      "cell_type": "code",
      "execution_count": null,
      "metadata": {
        "id": "4QbXyDZOymgS"
      },
      "outputs": [],
      "source": [
        "# history3 = model.fit(x_train, y_train,validation_data=(x_val, y_val), epochs= 7, batch_size= 32)"
      ]
    },
    {
      "cell_type": "code",
      "execution_count": null,
      "metadata": {
        "id": "J2O7y9a1C9U0"
      },
      "outputs": [],
      "source": [
        "# model.save(\"/content/drive/MyDrive/Covid CTscan Pictures/Models/covid_detection_RMSprop_model.h5\")"
      ]
    },
    {
      "cell_type": "code",
      "execution_count": null,
      "metadata": {
        "id": "8dhSNSNtC5vy"
      },
      "outputs": [],
      "source": [
        "# plt.plot(history3.history['accuracy'], label='Training Accuracy')\n",
        "# plt.plot(history3.history['val_accuracy'], label='Validation Accuracy')\n",
        "# plt.xlabel('Epochs')\n",
        "# plt.ylabel('Accuracy')\n",
        "# plt.legend()\n",
        "# plt.title('Training and Validation Accuracy')\n",
        "# plt.savefig('/content/drive/MyDrive/Statistics/train and validation with GRIDSEARCH RMSprop.png', format= 'png')\n",
        "# plt.show()"
      ]
    },
    {
      "cell_type": "code",
      "execution_count": null,
      "metadata": {
        "id": "Ycled50LDJdX"
      },
      "outputs": [],
      "source": [
        "# plt.plot(history3.history['loss'], label='Training Loss')\n",
        "# plt.plot(history3.history['val_loss'], label='Validation Loss')\n",
        "# plt.xlabel('Epochs')\n",
        "# plt.ylabel('Loss')\n",
        "# plt.legend()\n",
        "# plt.title('Training and Validation Loss')\n",
        "# plt.savefig('/content/drive/MyDrive/Statistics/loss with GRIDSEARCH RMSprop.png', format= 'png')\n",
        "# plt.show()"
      ]
    },
    {
      "cell_type": "code",
      "execution_count": null,
      "metadata": {
        "id": "5bmXImiADUDd"
      },
      "outputs": [],
      "source": [
        "# model.compile(optimizer = 'Adagrad', loss= 'binary_crossentropy', metrics = ['accuracy', Recall])"
      ]
    },
    {
      "cell_type": "code",
      "execution_count": null,
      "metadata": {
        "id": "9em1yOVoDO8a"
      },
      "outputs": [],
      "source": [
        "# history4 = model.fit(x_train, y_train,validation_data=(x_val, y_val), epochs= 7, batch_size= 32)"
      ]
    },
    {
      "cell_type": "code",
      "execution_count": null,
      "metadata": {
        "id": "xou1EMngULVw"
      },
      "outputs": [],
      "source": [
        "# model.save(\"/content/drive/MyDrive/Covid CTscan Pictures/Models/covid_detection_Adagrad_model.h5\")"
      ]
    },
    {
      "cell_type": "code",
      "execution_count": null,
      "metadata": {
        "id": "nmR_UhF3Udyl"
      },
      "outputs": [],
      "source": [
        "# plt.plot(history4.history['accuracy'], label='Training Accuracy')\n",
        "# plt.plot(history4.history['val_accuracy'], label='Validation Accuracy')\n",
        "# plt.xlabel('Epochs')\n",
        "# plt.ylabel('Accuracy')\n",
        "# plt.legend()\n",
        "# plt.title('Training and Validation Accuracy')\n",
        "# plt.savefig('/content/drive/MyDrive/Statistics/train and validation with GrisSearch Adagrad.png', format= 'png')\n",
        "# plt.show()"
      ]
    },
    {
      "cell_type": "code",
      "execution_count": null,
      "metadata": {
        "id": "otXCn6VEUlol"
      },
      "outputs": [],
      "source": [
        "# plt.plot(history4.history['loss'], label='Training Loss')\n",
        "# plt.plot(history4.history['val_loss'], label='Validation Loss')\n",
        "# plt.xlabel('Epochs')\n",
        "# plt.ylabel('Loss')\n",
        "# plt.legend()\n",
        "# plt.title('Training and Validation Loss')\n",
        "# plt.savefig('/content/drive/MyDrive/Statistics/loss with GrisSearch Adagrad.png', format= 'png')\n",
        "# plt.show()"
      ]
    }
  ],
  "metadata": {
    "accelerator": "GPU",
    "colab": {
      "gpuType": "T4",
      "provenance": []
    },
    "kernelspec": {
      "display_name": "Python 3",
      "name": "python3"
    },
    "language_info": {
      "name": "python",
      "version": "3.10.0"
    }
  },
  "nbformat": 4,
  "nbformat_minor": 0
}
